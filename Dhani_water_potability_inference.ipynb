{
 "cells": [
  {
   "cell_type": "markdown",
   "id": "b9d46aec-51d0-4d87-baaa-a2197062db75",
   "metadata": {},
   "source": [
    "# 1. Introduction"
   ]
  },
  {
   "cell_type": "markdown",
   "id": "82d05544-efc5-42f5-8fa7-35e900fb50b9",
   "metadata": {},
   "source": [
    "Achmad Dhani\n",
    "\n",
    "Objective: Making a model inference to test classification model"
   ]
  },
  {
   "cell_type": "markdown",
   "id": "7b89f94a-436f-42d6-ab7d-e2e9992121e4",
   "metadata": {},
   "source": [
    "# 2. Import Libraries"
   ]
  },
  {
   "cell_type": "code",
   "execution_count": 3,
   "id": "4145ed82-5162-477e-a406-34d6c9d26a3a",
   "metadata": {},
   "outputs": [],
   "source": [
    "# import\n",
    "import pandas as pd\n",
    "from joblib import load"
   ]
  },
  {
   "cell_type": "code",
   "execution_count": 16,
   "id": "f816882b-c76e-4f0a-acbc-3ec418e2f871",
   "metadata": {},
   "outputs": [],
   "source": [
    "data={\n",
    "    'ph': [5, 7, 10],\n",
    "    'hardness':[150, 200, 200],\n",
    "    'solids': [24000, 15000, 47000],\n",
    "    'chloramines':[4, 8, 7],\n",
    "    'sulfate': [300, 140, 289],\n",
    "    'conductivity':[350, 458, 500],\n",
    "    'organic_carbon':[15, 16, 24],\n",
    "    'trihalomethanes': [35, 68, 80],\n",
    "    'turbidity': [3, 2.5, 6]\n",
    "}\n",
    "\n",
    "data_inf= pd.DataFrame(data)"
   ]
  },
  {
   "cell_type": "code",
   "execution_count": 17,
   "id": "54646f7d-ff5b-4ecd-842c-532bb2e16035",
   "metadata": {},
   "outputs": [],
   "source": [
    "# importing model\n",
    "model = load('best_model.pkl')"
   ]
  },
  {
   "cell_type": "code",
   "execution_count": 18,
   "id": "13055f42-c883-4541-9249-104a3c094521",
   "metadata": {},
   "outputs": [],
   "source": [
    "# predictions\n",
    "predictions = model.predict(data_inf)"
   ]
  },
  {
   "cell_type": "code",
   "execution_count": 19,
   "id": "3e22ba4e-9866-49c4-8ed9-5c0599bd2380",
   "metadata": {},
   "outputs": [
    {
     "name": "stdout",
     "output_type": "stream",
     "text": [
      "Water from source 1 is NOT SAFE TO DRINK\n",
      "Water from source 2 is SAFE TO DRINK\n",
      "Water from source 3 is NOT SAFE TO DRINK\n"
     ]
    }
   ],
   "source": [
    "# printing the result of predictions\n",
    "for index, pred in enumerate(predictions, 1):\n",
    "    if pred == 1:\n",
    "        print(f\"Water from source {index} is SAFE TO DRINK\")\n",
    "    else:\n",
    "        print(f\"Water from source {index} is NOT SAFE TO DRINK\")"
   ]
  }
 ],
 "metadata": {
  "kernelspec": {
   "display_name": "Python 3 (ipykernel)",
   "language": "python",
   "name": "python3"
  },
  "language_info": {
   "codemirror_mode": {
    "name": "ipython",
    "version": 3
   },
   "file_extension": ".py",
   "mimetype": "text/x-python",
   "name": "python",
   "nbconvert_exporter": "python",
   "pygments_lexer": "ipython3",
   "version": "3.11.4"
  }
 },
 "nbformat": 4,
 "nbformat_minor": 5
}
